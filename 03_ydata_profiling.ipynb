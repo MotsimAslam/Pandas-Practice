{
 "cells": [
  {
   "cell_type": "markdown",
   "metadata": {},
   "source": [
    "# Automatic ESA Using ydata_profiling"
   ]
  },
  {
   "cell_type": "code",
   "execution_count": 4,
   "metadata": {},
   "outputs": [
    {
     "name": "stderr",
     "output_type": "stream",
     "text": [
      "e:\\DataScienceLearning\\envs\\ydata_profiling\\lib\\site-packages\\tqdm\\auto.py:21: TqdmWarning: IProgress not found. Please update jupyter and ipywidgets. See https://ipywidgets.readthedocs.io/en/stable/user_install.html\n",
      "  from .autonotebook import tqdm as notebook_tqdm\n"
     ]
    }
   ],
   "source": [
    "# import libraries\n",
    "import pandas as pd\n",
    "import seaborn as sns\n",
    "import ydata_profiling  as yd"
   ]
  },
  {
   "cell_type": "code",
   "execution_count": 5,
   "metadata": {},
   "outputs": [],
   "source": [
    "# import data from Seaborn\n",
    "df= sns.load_dataset('titanic')\n"
   ]
  },
  {
   "cell_type": "code",
   "execution_count": 7,
   "metadata": {},
   "outputs": [
    {
     "name": "stderr",
     "output_type": "stream",
     "text": [
      "Summarize dataset:   0%|          | 0/5 [00:00<?, ?it/s]"
     ]
    },
    {
     "name": "stderr",
     "output_type": "stream",
     "text": [
      "Summarize dataset: 100%|██████████| 41/41 [00:02<00:00, 16.66it/s, Completed]                    \n",
      "Generate report structure: 100%|██████████| 1/1 [00:02<00:00,  2.95s/it]\n",
      "Render HTML: 100%|██████████| 1/1 [00:00<00:00,  1.43it/s]\n",
      "e:\\DataScienceLearning\\envs\\ydata_profiling\\lib\\site-packages\\ydata_profiling\\profile_report.py:360: UserWarning: Extension .hmtl not supported. For now we assume .html was intended. To remove this warning, please use .html or .json.\n",
      "  warnings.warn(\n",
      "Export report to file: 100%|██████████| 1/1 [00:00<00:00, 333.73it/s]\n"
     ]
    }
   ],
   "source": [
    "# ydata profile report\n",
    "profile= yd.ProfileReport(df)\n",
    "profile.to_file(output_file='./output/ydata_titanic.hmtl')"
   ]
  },
  {
   "cell_type": "markdown",
   "metadata": {},
   "source": [
    "# Do it on Pakistan Poplulation data"
   ]
  },
  {
   "cell_type": "code",
   "execution_count": 8,
   "metadata": {},
   "outputs": [],
   "source": [
    "#import data\n",
    "df_pop= pd.read_csv(\"./dataset/datapoplulation.csv\")"
   ]
  },
  {
   "cell_type": "code",
   "execution_count": 9,
   "metadata": {},
   "outputs": [
    {
     "name": "stderr",
     "output_type": "stream",
     "text": [
      "Summarize dataset: 100%|██████████| 319/319 [00:27<00:00, 11.57it/s, Completed]                                                     \n",
      "Generate report structure: 100%|██████████| 1/1 [00:06<00:00,  6.10s/it]\n",
      "Render HTML: 100%|██████████| 1/1 [00:06<00:00,  6.57s/it]\n",
      "Export report to file: 100%|██████████| 1/1 [00:00<00:00, 15.53it/s]\n"
     ]
    }
   ],
   "source": [
    "# ydata_profiling report\n",
    "profile=yd.ProfileReport(df_pop)\n",
    "profile.to_file(output_file='./output/poplulation_data.html')"
   ]
  }
 ],
 "metadata": {
  "kernelspec": {
   "display_name": "ydata_profiling",
   "language": "python",
   "name": "python3"
  },
  "language_info": {
   "codemirror_mode": {
    "name": "ipython",
    "version": 3
   },
   "file_extension": ".py",
   "mimetype": "text/x-python",
   "name": "python",
   "nbconvert_exporter": "python",
   "pygments_lexer": "ipython3",
   "version": "3.10.0"
  }
 },
 "nbformat": 4,
 "nbformat_minor": 2
}

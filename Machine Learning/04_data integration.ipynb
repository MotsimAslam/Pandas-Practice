{
 "cells": [
  {
   "cell_type": "markdown",
   "metadata": {},
   "source": [
    "### Data Merge"
   ]
  },
  {
   "cell_type": "code",
   "execution_count": 5,
   "metadata": {},
   "outputs": [],
   "source": [
    "import pandas as pd\n",
    "\n",
    "# make a dictionary of some values\n",
    "    #DataSet 1: Personal Information\n",
    "data1 = {\n",
    "'id': [1,2,3], \n",
    "'Name': ['John', 'Steve', 'Sarah'],\n",
    "'Age': [30, 32, 28]\n",
    "\n",
    "}\n",
    "df1=pd.DataFrame(data1)\n",
    "df1.head()\n",
    "\n",
    "    #Data Set 2: Additional Information\n",
    "data2 = {\n",
    "'id': [1,2,4], \n",
    "'City': ['Lahore', 'Karachi', 'England'],\n",
    "'Job': ['Software Engineer', 'Data Analyst', 'Data Engineer']\n",
    "}\n",
    "df2= pd.DataFrame(data2)\n",
    "\n",
    "\n"
   ]
  },
  {
   "cell_type": "code",
   "execution_count": 6,
   "metadata": {},
   "outputs": [
    {
     "data": {
      "text/html": [
       "<div>\n",
       "<style scoped>\n",
       "    .dataframe tbody tr th:only-of-type {\n",
       "        vertical-align: middle;\n",
       "    }\n",
       "\n",
       "    .dataframe tbody tr th {\n",
       "        vertical-align: top;\n",
       "    }\n",
       "\n",
       "    .dataframe thead th {\n",
       "        text-align: right;\n",
       "    }\n",
       "</style>\n",
       "<table border=\"1\" class=\"dataframe\">\n",
       "  <thead>\n",
       "    <tr style=\"text-align: right;\">\n",
       "      <th></th>\n",
       "      <th>id</th>\n",
       "      <th>Name</th>\n",
       "      <th>Age</th>\n",
       "      <th>City</th>\n",
       "      <th>Job</th>\n",
       "    </tr>\n",
       "  </thead>\n",
       "  <tbody>\n",
       "    <tr>\n",
       "      <th>0</th>\n",
       "      <td>1</td>\n",
       "      <td>John</td>\n",
       "      <td>30</td>\n",
       "      <td>Lahore</td>\n",
       "      <td>Software Engineer</td>\n",
       "    </tr>\n",
       "    <tr>\n",
       "      <th>1</th>\n",
       "      <td>2</td>\n",
       "      <td>Steve</td>\n",
       "      <td>32</td>\n",
       "      <td>Karachi</td>\n",
       "      <td>Data Analyst</td>\n",
       "    </tr>\n",
       "  </tbody>\n",
       "</table>\n",
       "</div>"
      ],
      "text/plain": [
       "   id   Name  Age     City                Job\n",
       "0   1   John   30   Lahore  Software Engineer\n",
       "1   2  Steve   32  Karachi       Data Analyst"
      ]
     },
     "execution_count": 6,
     "metadata": {},
     "output_type": "execute_result"
    }
   ],
   "source": [
    "# Merge the dataframes\n",
    "df3 = pd.merge(df1, df2, on='id', how='inner')\n",
    "df3"
   ]
  },
  {
   "cell_type": "markdown",
   "metadata": {},
   "source": [
    "#### Concetenation\n"
   ]
  },
  {
   "cell_type": "code",
   "execution_count": 7,
   "metadata": {},
   "outputs": [
    {
     "name": "stdout",
     "output_type": "stream",
     "text": [
      "     Name  Age\n",
      "0   Ahmed   28\n",
      "1  Fatima   32\n",
      "2     Ali   24\n",
      "0    Sara   29\n",
      "1   Usman   35\n",
      "2   Aisha   27\n",
      ";;;;;;;;;;;;;;;;;;;;;;;;;;;;;;\n"
     ]
    },
    {
     "data": {
      "text/html": [
       "<div>\n",
       "<style scoped>\n",
       "    .dataframe tbody tr th:only-of-type {\n",
       "        vertical-align: middle;\n",
       "    }\n",
       "\n",
       "    .dataframe tbody tr th {\n",
       "        vertical-align: top;\n",
       "    }\n",
       "\n",
       "    .dataframe thead th {\n",
       "        text-align: right;\n",
       "    }\n",
       "</style>\n",
       "<table border=\"1\" class=\"dataframe\">\n",
       "  <thead>\n",
       "    <tr style=\"text-align: right;\">\n",
       "      <th></th>\n",
       "      <th>Name</th>\n",
       "      <th>Age</th>\n",
       "      <th>City</th>\n",
       "      <th>Province</th>\n",
       "    </tr>\n",
       "  </thead>\n",
       "  <tbody>\n",
       "    <tr>\n",
       "      <th>0</th>\n",
       "      <td>Ahmed</td>\n",
       "      <td>28</td>\n",
       "      <td>Karachi</td>\n",
       "      <td>Sindh</td>\n",
       "    </tr>\n",
       "    <tr>\n",
       "      <th>1</th>\n",
       "      <td>Fatima</td>\n",
       "      <td>32</td>\n",
       "      <td>Lahore</td>\n",
       "      <td>Punjab</td>\n",
       "    </tr>\n",
       "    <tr>\n",
       "      <th>2</th>\n",
       "      <td>Ali</td>\n",
       "      <td>24</td>\n",
       "      <td>Islamabad</td>\n",
       "      <td>Islamabad</td>\n",
       "    </tr>\n",
       "  </tbody>\n",
       "</table>\n",
       "</div>"
      ],
      "text/plain": [
       "     Name  Age       City   Province\n",
       "0   Ahmed   28    Karachi      Sindh\n",
       "1  Fatima   32     Lahore     Punjab\n",
       "2     Ali   24  Islamabad  Islamabad"
      ]
     },
     "execution_count": 7,
     "metadata": {},
     "output_type": "execute_result"
    }
   ],
   "source": [
    "import pandas as pd\n",
    "\n",
    "# Example datasets for Pakistani context\n",
    "# Dataset 1 - Pakistani Names and Ages\n",
    "data1 = {'Name': ['Ahmed', 'Fatima', 'Ali'], 'Age': [28, 32, 24]}\n",
    "# Dataset 2 - More Pakistani Names and Ages\n",
    "data2 = {'Name': ['Sara', 'Usman', 'Aisha'], 'Age': [29, 35, 27]}\n",
    "# Dataset 3 - Cities and Provinces in Pakistan\n",
    "data3 = {'City': ['Karachi', 'Lahore', 'Islamabad'], 'Province': ['Sindh', 'Punjab', 'Islamabad']}\n",
    "\n",
    "df1 = pd.DataFrame(data1)\n",
    "df2 = pd.DataFrame(data2)\n",
    "df3 = pd.DataFrame(data3)\n",
    "\n",
    "# Concatenating Rows\n",
    "concatenated_rows = pd.concat([df1, df2])\n",
    "\n",
    "# Concatenating Columns\n",
    "# Note: For a meaningful column-wise concatenation, dataframes should have the same number of rows.\n",
    "concatenated_columns = pd.concat([df1, df3], axis=1)\n",
    "print(concatenated_rows)\n",
    "print(\";;;;;;;;;;;;;;;;;;;;;;;;;;;;;;\")\n",
    "concatenated_columns"
   ]
  }
 ],
 "metadata": {
  "kernelspec": {
   "display_name": "python_ml_ds",
   "language": "python",
   "name": "python3"
  },
  "language_info": {
   "codemirror_mode": {
    "name": "ipython",
    "version": 3
   },
   "file_extension": ".py",
   "mimetype": "text/x-python",
   "name": "python",
   "nbconvert_exporter": "python",
   "pygments_lexer": "ipython3",
   "version": "3.12.2"
  }
 },
 "nbformat": 4,
 "nbformat_minor": 2
}
